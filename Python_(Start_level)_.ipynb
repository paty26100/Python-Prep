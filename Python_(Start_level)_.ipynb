{
  "nbformat": 4,
  "nbformat_minor": 0,
  "metadata": {
    "colab": {
      "provenance": [],
      "include_colab_link": true
    },
    "kernelspec": {
      "name": "python3",
      "display_name": "Python 3"
    },
    "language_info": {
      "name": "python"
    }
  },
  "cells": [
    {
      "cell_type": "markdown",
      "metadata": {
        "id": "view-in-github",
        "colab_type": "text"
      },
      "source": [
        "<a href=\"https://colab.research.google.com/github/paty26100/Python-Prep/blob/main/Python_(Start_level)_.ipynb\" target=\"_parent\"><img src=\"https://colab.research.google.com/assets/colab-badge.svg\" alt=\"Open In Colab\"/></a>"
      ]
    },
    {
      "cell_type": "code",
      "source": [
        "# to open Colab file use \n",
        "# https://colab.research.google.com/drive/1GXRWfVgagVx_nJCCROnYFQNdjdoz4jwg?usp=sharing\n",
        "\n",
        "# Please before edition, save copy of the file to your google disk "
      ],
      "metadata": {
        "id": "PZa3Vk1WntBL"
      },
      "execution_count": null,
      "outputs": []
    },
    {
      "cell_type": "code",
      "execution_count": null,
      "metadata": {
        "colab": {
          "base_uri": "https://localhost:8080/"
        },
        "id": "TdH7Io52vuFQ",
        "outputId": "eaab0282-738d-4b90-c811-352c1b504665"
      },
      "outputs": [
        {
          "output_type": "stream",
          "name": "stdout",
          "text": [
            "You've successfully run some Python code\n",
            "Congratulations!\n"
          ]
        }
      ],
      "source": [
        "print(\"You've successfully run some Python code\")\n",
        "print(\"Congratulations!\")"
      ]
    },
    {
      "cell_type": "markdown",
      "source": [
        "#Basic arithmetic and string operations"
      ],
      "metadata": {
        "id": "Az6bIp0swRDx"
      }
    },
    {
      "cell_type": "code",
      "source": [
        "pi = 3.14159 # approximate\n",
        "diameter = 3\n",
        "\n",
        "# (5 points)\n",
        "# Create a variable called 'radius' equal to half the diameter\n",
        "\n",
        "# (10 points)\n",
        "# Create a variable called 'area', using the formula for the area of a circle: pi times the radius squared\n",
        "\n",
        "# (15 points)\n",
        "# Print this variables in format \"Radius=__ and Area=__\"\n",
        "\n",
        "print()"
      ],
      "metadata": {
        "id": "ZHaNdLqmvwK2"
      },
      "execution_count": null,
      "outputs": []
    },
    {
      "cell_type": "code",
      "source": [
        "# (10 points)\n",
        "#How do you think, what will happen if you will multiply string by some integer number ?\n",
        "print() #answer\n",
        "\n",
        "# (10 points)\n",
        "#How do you think, what will happen if you will multiply string by some float number ?\n",
        "print() #answer"
      ],
      "metadata": {
        "colab": {
          "base_uri": "https://localhost:8080/"
        },
        "id": "hp9QZ5CFw3C4",
        "outputId": "038f44f0-c8f8-490e-b5b6-5a05a7dcc9ac"
      },
      "execution_count": null,
      "outputs": [
        {
          "output_type": "stream",
          "name": "stdout",
          "text": [
            "\n",
            "\n"
          ]
        }
      ]
    },
    {
      "cell_type": "code",
      "source": [
        "# (10 points)\n",
        "\n",
        "# Print the number of simbols in the variable count_string\n",
        "count_string=\"You've successfully finished first topic!!!\"\n",
        "\n",
        "print()"
      ],
      "metadata": {
        "colab": {
          "base_uri": "https://localhost:8080/"
        },
        "id": "nn57nEZC3_nK",
        "outputId": "821ca98c-1ffb-4de5-b2f5-8293ecb909bc"
      },
      "execution_count": null,
      "outputs": [
        {
          "output_type": "stream",
          "name": "stdout",
          "text": [
            "\n"
          ]
        }
      ]
    },
    {
      "cell_type": "markdown",
      "source": [
        "# Functions and conditionals "
      ],
      "metadata": {
        "id": "KD6-kJWNy6mz"
      }
    },
    {
      "cell_type": "code",
      "source": [
        "# (15 points)\n",
        "\n",
        "# Try to create a function which takes variables pi and diameter, and returns \"Radius=__ and Area=__\"\n",
        "# See the first task \n",
        "\n",
        "\n"
      ],
      "metadata": {
        "id": "-of1J5oyynuG"
      },
      "execution_count": null,
      "outputs": []
    },
    {
      "cell_type": "code",
      "source": [
        "# (25 points)\n",
        "\n",
        "# Try to create a function which return -1 if variable is negative and +1 if variable is positive or 0\n",
        "# Additional condition: if your variable is string, your function must return \"TEXT!!!\" \n",
        "\n"
      ],
      "metadata": {
        "id": "NP59VPmY1FNd"
      },
      "execution_count": null,
      "outputs": []
    }
  ]
}